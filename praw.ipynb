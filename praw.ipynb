{
 "cells": [
  {
   "cell_type": "code",
   "execution_count": 1,
   "metadata": {},
   "outputs": [],
   "source": [
    "import praw\n",
    "reddit = praw.Reddit(\n",
    "    client_id=\"vkehb98SP7DXk-zpouJJPg\",\n",
    "    client_secret=\"Mh9_kBMneiQyl-aqYIoP6rNTMxaf3A\",\n",
    "    user_agent=\"praw\"\n",
    ")\n",
    "reddit.read_only = True\n",
    "\n",
    "count = 0\n",
    "for post in reddit.subreddit('test').stream.comments(skip_existing=True):\n",
    "    print(post)\n",
    "    if count >= 10:\n",
    "        break\n",
    "    count += 1\n"
   ]
  },
  {
   "cell_type": "code",
   "execution_count": 56,
   "metadata": {},
   "outputs": [
    {
     "name": "stdout",
     "output_type": "stream",
     "text": [
      "7450\n",
      "              precision    recall  f1-score   support\n",
      "\n",
      "          -1       0.66      0.44      0.53      1630\n",
      "           0       0.85      0.44      0.58      2659\n",
      "           1       0.57      0.90      0.70      3161\n",
      "\n",
      "    accuracy                           0.63      7450\n",
      "   macro avg       0.69      0.59      0.60      7450\n",
      "weighted avg       0.69      0.63      0.62      7450\n",
      "\n",
      "Accuracy Score:  0.6330201342281879\n"
     ]
    }
   ],
   "source": [
    "#Loading the Dataset\n",
    "import pandas as pd\n",
    "data = pd.read_csv(r'Reddit_Data.csv')\n",
    "\n",
    "\n",
    "#Pre-Prcoessing and Bag of Word Vectorization using Count Vectorizer\n",
    "from sklearn.feature_extraction.text import CountVectorizer\n",
    "from nltk.tokenize import RegexpTokenizer\n",
    "token = RegexpTokenizer(r'[a-zA-Z0-9]+')\n",
    "cv = CountVectorizer(stop_words='english',ngram_range = (1,1),tokenizer = token.tokenize)\n",
    "text_counts = cv.fit_transform(data['clean_comment'].values.astype('U'))\n",
    "# #Splitting the data into trainig and testing\n",
    "from sklearn.model_selection import train_test_split\n",
    "X_train, X_test, Y_train, Y_test = train_test_split(text_counts, data['category'], test_size=0.2, random_state=10)\n",
    "#Training the model\n",
    "from sklearn.naive_bayes import MultinomialNB\n",
    "MNB = MultinomialNB()\n",
    "MNB.fit(X_train, Y_train)\n",
    "#Caluclating the accuracy score of the model\n",
    "from sklearn import metrics\n",
    "predicted = MNB.predict(X_test)\n",
    "print(len(predicted))\n",
    "print(metrics.classification_report(Y_test, predicted))\n",
    "print(\"Accuracy Score: \",metrics.accuracy_score(Y_test, predicted))\n"
   ]
  },
  {
   "cell_type": "code",
   "execution_count": 59,
   "metadata": {},
   "outputs": [],
   "source": [
    "def prediction(post):\n",
    "    from sklearn.feature_extraction.text import CountVectorizer\n",
    "    from nltk.tokenize import RegexpTokenizer\n",
    "    token = RegexpTokenizer(r'[a-zA-Z0-9]+')\n",
    "    count_text = cv.transform([post])\n",
    "    predicted = MNB.predict(count_text)\n",
    "    print(post, predicted)"
   ]
  },
  {
   "cell_type": "code",
   "execution_count": 48,
   "metadata": {},
   "outputs": [
    {
     "name": "stdout",
     "output_type": "stream",
     "text": [
      "  (0, 2)\t1\n",
      "  (0, 0)\t1\n",
      "  (0, 1)\t1\n",
      "  (0, 3)\t1\n"
     ]
    }
   ],
   "source": [
    "cv = CountVectorizer(stop_words='english',ngram_range = (1,1),tokenizer = token.tokenize)\n",
    "count_text = cv.fit_transform([post.title])\n",
    "print(count_text)"
   ]
  },
  {
   "cell_type": "code",
   "execution_count": null,
   "metadata": {},
   "outputs": [],
   "source": []
  }
 ],
 "metadata": {
  "kernelspec": {
   "display_name": "DIP",
   "language": "python",
   "name": "python3"
  },
  "language_info": {
   "codemirror_mode": {
    "name": "ipython",
    "version": 3
   },
   "file_extension": ".py",
   "mimetype": "text/x-python",
   "name": "python",
   "nbconvert_exporter": "python",
   "pygments_lexer": "ipython3",
   "version": "3.8.8"
  },
  "orig_nbformat": 4
 },
 "nbformat": 4,
 "nbformat_minor": 2
}
